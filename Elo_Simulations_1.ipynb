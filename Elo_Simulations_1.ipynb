{
 "cells": [
  {
   "cell_type": "markdown",
   "id": "invisible-uruguay",
   "metadata": {},
   "source": [
    "A notebook investigating Elo ratings systems, which are designed to provide numerical ratings for\n",
    "players of a game such as chess, based on their win/loss match results.  The specific Elo system examined here is the one implemented by USA-Pickleball, but the results are universal to all basic Elo sytems.\n",
    "\n",
    "Here, I'm looking at the effect of the value of the parameter \"k\" (which determines the maximum size of\n",
    "the ratings bump that each\n",
    "player gets due to winning / losing a match) on the precision of the ratings.  Generally, tuning the value of \"k\" is seen as a trade-off between being under-responsive and over-responsive.  I'm asking a more fundamental question: whether the choice of k affects the ability of the ratings system to be precise.\n",
    "\n",
    "In an ideal, perfect scenario, how precise are the ratings, as a function of k?\n",
    "\n",
    "I simulate matches bewteen players of equal skill (probability of winning a match = 0.5), and look at the ability of the ratings system to estimate their skill.  (They should all be rated as equal.)\n",
    "Players begin the similation with either a uniform distribution of ratings in the range (4.0,5.0),\n",
    "or a Gaussian distribution ~N(4.5,0.01). I demonstrate that the final ratings distributions are the same for the two starting condidtions, i.e the ratings system reaches an equilirium.\n",
    "\n",
    "Findings: Larger k values do, in fact, reduce the precision of the rating's system's estimates.  For k in the range (0.05 -> 0.4), the ratings system reaches an equilibrium where players of equal strength have ratings with a standard deviation between 0.059 (for k = 0.05) and 0.315 (for k=0.4) ratings points.  Standard deviation increases linearly with k.\n",
    "\n",
    "Practically: since the current USA-Pickleball ratings system uses k=0.1, the maximum possilbe precision that the ratings system can deliver in ideal conditions is a standard deviation of +/- 0.0928 ratings points, with 27% of players being mis-rated by 0.093 - 0.186 ratings points.\n",
    "\n",
    "\n",
    "More details on Elo ratings systems at: https://en.wikipedia.org/wiki/Elo_rating_system, \n",
    "and also note that USA-Pickleball uses $ P = {1} / ( {1+20^{3(R_A-R_B)}} ) $ i.e. \n",
    "$ P = {1} / ( {1+10^{(\\Delta R / 0.2562)}} ) $ instead of chess's \n",
    "$ P = {1} / ( {1+10^{(\\Delta R / 400)}} ) $.\n",
    "\n",
    "\n",
    "Comparing normalized \"k\" values is also intersting.  Chess sets k around 16-32 i.e. {16,32}/400 = {0.04,0.08}, whereas Pickleball uses k = 0.1, i.e. 0.1/0.2562 = 0.390.  Recall that in {Chess, Pickleball}, a ratings difference of {400,0.0256} means that the player rated higher is an estimated 10x as likely to win, i.e. p = 0.909.  Chess requires approximately 20 ratings bumps to advance, while pickleball requires only three.\n",
    "\n",
    "(Briefly: an Elo system bumps a player's rating up or down after every match, with the size of the bump being proportional to the estimated probability of winning.  An upset leads to a larger bump, an expected result leads to a smaller bump.)\n",
    "\n",
    ".  \n",
    "\n",
    ".  \n",
    "  \n",
    "\n",
    "Tim Dellinger  \n",
    "tim.dellinger@gmail.com  \n",
    "Feb 2021"
   ]
  },
  {
   "cell_type": "code",
   "execution_count": 117,
   "id": "vocal-stylus",
   "metadata": {},
   "outputs": [],
   "source": [
    "import random\n",
    "import numpy as np\n",
    "from matplotlib import pyplot as plt\n",
    "from scipy.stats import norm\n",
    "from scipy.stats import normaltest\n",
    "from scipy.stats import linregress"
   ]
  },
  {
   "cell_type": "code",
   "execution_count": 44,
   "id": "changed-central",
   "metadata": {},
   "outputs": [],
   "source": [
    "number_of_players = 10000"
   ]
  },
  {
   "cell_type": "code",
   "execution_count": 3,
   "id": "through-rebate",
   "metadata": {},
   "outputs": [],
   "source": [
    "# we'll need this later to flatten lists\n",
    "\n",
    "def flatten(a):\n",
    "    return [item for sublist in a for item in sublist]"
   ]
  },
  {
   "cell_type": "code",
   "execution_count": 128,
   "id": "handy-suspect",
   "metadata": {},
   "outputs": [],
   "source": [
    "# play a single match, update ratings\n",
    "\n",
    "def compete_and_update_ratings(a,b,k):\n",
    "    #\n",
    "    # takes two ratings and k as inputs, plays a match (coin flip), returns updated ratings as a tuple\n",
    "    # note that a-b and b-a in the bump calculation are reversed depending on who wins\n",
    "    #\n",
    "    if (np.random.random() < 0.5):\n",
    "        bump = k/(1+20**(3*(a-b)))\n",
    "        return a + bump, b - bump\n",
    "    else:\n",
    "        bump = k/(1+20**(3*(b-a)))\n",
    "        return a - bump, b + bump"
   ]
  },
  {
   "cell_type": "code",
   "execution_count": 130,
   "id": "dense-uncle",
   "metadata": {},
   "outputs": [
    {
     "name": "stdout",
     "output_type": "stream",
     "text": [
      "(4.901105672197775, 4.598894327802225)\n",
      "(4.901105672197775, 4.598894327802225)\n",
      "(4.901105672197775, 4.598894327802225)\n",
      "(5.001105672197775, 4.498894327802225)\n",
      "(5.001105672197775, 4.498894327802225)\n",
      "(4.901105672197775, 4.598894327802225)\n"
     ]
    }
   ],
   "source": [
    "# running this a few times verifies that the math is correct\n",
    "# i.e. a small bump if the 5.0 team wins, a larger bump if the 4.5 team wins\n",
    "\n",
    "for _ in range(6): \n",
    "    print (compete_and_update_ratings(5.0,4.5,0.1))"
   ]
  },
  {
   "cell_type": "code",
   "execution_count": 45,
   "id": "worst-toilet",
   "metadata": {},
   "outputs": [],
   "source": [
    "# create a list with player ratings\n",
    "# the actual rating is arbitrary - let's choose 4.5 since that's a relevant pickleball rating\n",
    "# add some jitter with random.normal()\n",
    "\n",
    "players = list(np.random.normal(4.5,0.01) for _ in range(number_of_players))"
   ]
  },
  {
   "cell_type": "code",
   "execution_count": 7,
   "id": "fancy-pacific",
   "metadata": {},
   "outputs": [],
   "source": [
    "# and a smaller list for use in testing our functions\n",
    "\n",
    "players_short = list(np.random.normal(4.5,0.01) for _ in range(10))"
   ]
  },
  {
   "cell_type": "code",
   "execution_count": 8,
   "id": "registered-angel",
   "metadata": {},
   "outputs": [],
   "source": [
    "#\n",
    "# building up code to simulate playing matches\n",
    "#"
   ]
  },
  {
   "cell_type": "code",
   "execution_count": 46,
   "id": "unexpected-framework",
   "metadata": {},
   "outputs": [],
   "source": [
    "# this shuffles in place\n",
    "\n",
    "random.shuffle(players)"
   ]
  },
  {
   "cell_type": "code",
   "execution_count": 11,
   "id": "intermediate-season",
   "metadata": {},
   "outputs": [
    {
     "data": {
      "text/plain": [
       "[(4.4443273076842225, 4.559296353214986),\n",
       " (4.544796115489873, 4.450098621977379),\n",
       " (4.455752457409915, 4.548250371366662),\n",
       " (4.538243635415902, 4.44176234107446),\n",
       " (4.548805075782857, 4.45159071437986)]"
      ]
     },
     "execution_count": 11,
     "metadata": {},
     "output_type": "execute_result"
    }
   ],
   "source": [
    "# breaks the list into pairs, and feeds each pair through compete_and_update_ratings()\n",
    "# this returns a list of pairs, which we'll have to flatten\n",
    "\n",
    "list(compete_and_update_ratings(*players_short[i:i+2],0.1) for i in range(0, len(players_short), 2))\n"
   ]
  },
  {
   "cell_type": "code",
   "execution_count": null,
   "id": "grave-healthcare",
   "metadata": {},
   "outputs": [],
   "source": [
    "# wrapping it up in a function"
   ]
  },
  {
   "cell_type": "code",
   "execution_count": 13,
   "id": "advisory-amplifier",
   "metadata": {},
   "outputs": [],
   "source": [
    "def play_matches(players_list,number_of_matches,k):\n",
    "    for _ in range(number_of_matches):\n",
    "        random.shuffle(players_list)\n",
    "        players_list = flatten(list(compete_and_update_ratings(*players_list[i:i+2],k) for i in \\\n",
    "                           range(0, len(players_list), 2)))\n",
    "    return players_list"
   ]
  },
  {
   "cell_type": "code",
   "execution_count": 14,
   "id": "cooked-greensboro",
   "metadata": {},
   "outputs": [
    {
     "data": {
      "text/plain": [
       "[4.5627261461780515,\n",
       " 4.456014986530498,\n",
       " 4.4665581625994495,\n",
       " 4.339895711517558,\n",
       " 4.410216663888972,\n",
       " 4.560117023350882,\n",
       " 4.6084363508682324,\n",
       " 4.5315143603608385,\n",
       " 4.500133757454949,\n",
       " 4.547309831046683]"
      ]
     },
     "execution_count": 14,
     "metadata": {},
     "output_type": "execute_result"
    }
   ],
   "source": [
    "# test the code on the short list to make sure it's running smoothly\n",
    "\n",
    "play_matches(players_short,10,0.1)"
   ]
  },
  {
   "cell_type": "code",
   "execution_count": 51,
   "id": "sunset-sacramento",
   "metadata": {},
   "outputs": [
    {
     "name": "stdout",
     "output_type": "stream",
     "text": [
      "mean 4.500143515286855 \n",
      " std 0.00996315720563632\n"
     ]
    },
    {
     "data": {
      "image/png": "[encoded data removed]",
      "text/plain": [
       "<Figure size 432x288 with 1 Axes>"
      ]
     },
     "metadata": {
      "needs_background": "light"
     },
     "output_type": "display_data"
    }
   ],
   "source": [
    "# let's have a look at our initial distribution\n",
    "\n",
    "mu, std = norm.fit(players)\n",
    "print(\"mean\",mu,\"\\n\", \"std\", std)\n",
    "\n",
    "count,bins,_ = plt.hist(players, 50, density=True)\n",
    "plt.plot(bins, norm.pdf(bins, mu, std),\n",
    "         linewidth=2, color='r')\n",
    "plt.show()"
   ]
  },
  {
   "cell_type": "code",
   "execution_count": 72,
   "id": "marked-group",
   "metadata": {},
   "outputs": [],
   "source": [
    "# might as well make that a funciton to save time\n",
    "\n",
    "def make_plot(players_list):\n",
    "    mu, std = norm.fit(players_list)\n",
    "    print(\"mean\",mu,\"\\n\", \"std\", std)\n",
    "\n",
    "    count,bins,_ = plt.hist(players_list, 50, density=True)\n",
    "    plt.plot(bins, norm.pdf(bins, mu, std),\n",
    "         linewidth=2, color='r')\n",
    "    plt.show()"
   ]
  },
  {
   "cell_type": "code",
   "execution_count": 29,
   "id": "fleet-vietnamese",
   "metadata": {},
   "outputs": [],
   "source": [
    "# run 50 matches with an absurdly high k=0.4\n",
    "\n",
    "players_after_50 = play_matches(players,50,0.4)"
   ]
  },
  {
   "cell_type": "code",
   "execution_count": 74,
   "id": "confidential-briefs",
   "metadata": {},
   "outputs": [
    {
     "name": "stdout",
     "output_type": "stream",
     "text": [
      "mean 4.499980565571263 \n",
      " std 0.3132608456412646\n"
     ]
    },
    {
     "data": {
      "image/png": "[encoded data removed]",
      "text/plain": [
       "<Figure size 432x288 with 1 Axes>"
      ]
     },
     "metadata": {
      "needs_background": "light"
     },
     "output_type": "display_data"
    }
   ],
   "source": [
    "# the stdev is now 0.313 !!\n",
    "# also: not looking quite like a gaussian\n",
    "\n",
    "make_plot(players_after_50)"
   ]
  },
  {
   "cell_type": "code",
   "execution_count": 69,
   "id": "developing-istanbul",
   "metadata": {},
   "outputs": [
    {
     "data": {
      "text/plain": [
       "(NormaltestResult(statistic=2.8280725471072974, pvalue=0.24315984013401606),\n",
       " NormaltestResult(statistic=158.580670267823, pvalue=3.669821858169645e-35))"
      ]
     },
     "execution_count": 69,
     "metadata": {},
     "output_type": "execute_result"
    }
   ],
   "source": [
    "# D'Agostino & Pearson's test for normality, just for fun\n",
    "#\n",
    "# conclusion: not normal after 50 matches!\n",
    "\n",
    "normaltest(players), normaltest(players_after_50)"
   ]
  },
  {
   "cell_type": "code",
   "execution_count": 38,
   "id": "sixth-scroll",
   "metadata": {},
   "outputs": [],
   "source": [
    "# some rangefinding - 500 matches instead of 50 to see if the distribution evolves\n",
    "# we can look more closely later at the number of matches required to reach equilibrium\n",
    "\n",
    "players_after_500 = play_matches(players,500,0.4)"
   ]
  },
  {
   "cell_type": "code",
   "execution_count": 85,
   "id": "suspected-quarterly",
   "metadata": {},
   "outputs": [
    {
     "name": "stdout",
     "output_type": "stream",
     "text": [
      "mean 4.499980565571263 \n",
      " std 0.3133724969782095\n"
     ]
    },
    {
     "data": {
      "image/png": "[encoded data removed]",
      "text/plain": [
       "<Figure size 432x288 with 1 Axes>"
      ]
     },
     "metadata": {
      "needs_background": "light"
     },
     "output_type": "display_data"
    },
    {
     "data": {
      "text/plain": [
       "NormaltestResult(statistic=126.69699682535116, pvalue=3.076781832489054e-28)"
      ]
     },
     "execution_count": 85,
     "metadata": {},
     "output_type": "execute_result"
    }
   ],
   "source": [
    "# the stdev is still 0.313, so m50 was probably fine\n",
    "# also: still not looking gaussian\n",
    "\n",
    "make_plot(players_after_500)\n",
    "normaltest(players_after_500)"
   ]
  },
  {
   "cell_type": "code",
   "execution_count": null,
   "id": "universal-alaska",
   "metadata": {},
   "outputs": [],
   "source": []
  },
  {
   "cell_type": "code",
   "execution_count": null,
   "id": "uniform-harbor",
   "metadata": {},
   "outputs": [],
   "source": []
  },
  {
   "cell_type": "code",
   "execution_count": null,
   "id": "innocent-package",
   "metadata": {},
   "outputs": [],
   "source": []
  },
  {
   "cell_type": "code",
   "execution_count": 79,
   "id": "square-buyer",
   "metadata": {},
   "outputs": [],
   "source": [
    "# let's try starting with a uniform distribution instead\n",
    "\n",
    "players_uniform = list(np.random.uniform(4.0,5.0) for _ in range(10000))"
   ]
  },
  {
   "cell_type": "code",
   "execution_count": 80,
   "id": "accepting-backup",
   "metadata": {},
   "outputs": [
    {
     "name": "stdout",
     "output_type": "stream",
     "text": [
      "mean 4.500461042049678 \n",
      " std 0.2863740737119327\n"
     ]
    },
    {
     "data": {
      "image/png": "[encoded data removed]",
      "text/plain": [
       "<Figure size 432x288 with 1 Axes>"
      ]
     },
     "metadata": {
      "needs_background": "light"
     },
     "output_type": "display_data"
    }
   ],
   "source": [
    "make_plot(players_uniform)"
   ]
  },
  {
   "cell_type": "code",
   "execution_count": 81,
   "id": "aware-knock",
   "metadata": {},
   "outputs": [],
   "source": [
    "uniform_after_500 = play_matches(players_uniform,500,0.4)"
   ]
  },
  {
   "cell_type": "code",
   "execution_count": 82,
   "id": "minute-trout",
   "metadata": {},
   "outputs": [
    {
     "name": "stdout",
     "output_type": "stream",
     "text": [
      "mean 4.500461042049677 \n",
      " std 0.3146320432156508\n"
     ]
    },
    {
     "data": {
      "image/png": "[encoded data removed]",
      "text/plain": [
       "<Figure size 432x288 with 1 Axes>"
      ]
     },
     "metadata": {
      "needs_background": "light"
     },
     "output_type": "display_data"
    }
   ],
   "source": [
    "# the resulting distribution is quite similar (std = 0.315 vs 0.313 for the earlier runs)\n",
    "\n",
    "make_plot(uniform_after_500)"
   ]
  },
  {
   "cell_type": "code",
   "execution_count": 83,
   "id": "obvious-silly",
   "metadata": {},
   "outputs": [],
   "source": [
    "# more rangefinding... 2000 mathces instead of 500\n",
    "\n",
    "uniform_after_2000 = play_matches(players_uniform,2000,0.4)"
   ]
  },
  {
   "cell_type": "code",
   "execution_count": 113,
   "id": "nasty-vatican",
   "metadata": {},
   "outputs": [
    {
     "name": "stdout",
     "output_type": "stream",
     "text": [
      "mean 4.500461042049678 \n",
      " std 0.3144662516281215\n"
     ]
    },
    {
     "data": {
      "image/png": "[encoded data removed]",
      "text/plain": [
       "<Figure size 432x288 with 1 Axes>"
      ]
     },
     "metadata": {
      "needs_background": "light"
     },
     "output_type": "display_data"
    }
   ],
   "source": [
    "# result: not a lot of difference between 500 and 2000 matches\n",
    "\n",
    "make_plot(uniform_after_2000)"
   ]
  },
  {
   "cell_type": "code",
   "execution_count": null,
   "id": "corporate-intermediate",
   "metadata": {},
   "outputs": [],
   "source": [
    "# I'll save investigation of \"number of matches to reach equilibruim\" for another day\n",
    "# for now: std as a funciton of k"
   ]
  },
  {
   "cell_type": "code",
   "execution_count": null,
   "id": "inappropriate-window",
   "metadata": {},
   "outputs": [],
   "source": []
  },
  {
   "cell_type": "code",
   "execution_count": 105,
   "id": "subtle-hundred",
   "metadata": {},
   "outputs": [
    {
     "data": {
      "text/plain": [
       "[0.05, 0.1, 0.15, 0.2, 0.25, 0.3, 0.35, 0.4]"
      ]
     },
     "execution_count": 105,
     "metadata": {},
     "output_type": "execute_result"
    }
   ],
   "source": [
    "# round() will clean up the floating point messiness\n",
    "\n",
    "k_list = list(a.round(decimals=4) for a in np.arange(0.05,0.41,0.05))\n",
    "k_list"
   ]
  },
  {
   "cell_type": "code",
   "execution_count": 106,
   "id": "tropical-neutral",
   "metadata": {},
   "outputs": [],
   "source": [
    "# recall that norm.fit()[1] is the stdev\n",
    "\n",
    "# This'll only take a minute or so to run; no need to save intermediate results\n",
    "\n",
    "stdev_list = list(norm.fit(play_matches(players_uniform,500,k))[1] for k in k_list)"
   ]
  },
  {
   "cell_type": "code",
   "execution_count": 107,
   "id": "little-burning",
   "metadata": {},
   "outputs": [
    {
     "data": {
      "text/plain": [
       "[0.058933168652704086,\n",
       " 0.09279667135368334,\n",
       " 0.1270373097868587,\n",
       " 0.16050220127606935,\n",
       " 0.1977899617368219,\n",
       " 0.2364227689911302,\n",
       " 0.2774071749915212,\n",
       " 0.31506494835369636]"
      ]
     },
     "execution_count": 107,
     "metadata": {},
     "output_type": "execute_result"
    }
   ],
   "source": [
    "stdev_list"
   ]
  },
  {
   "cell_type": "code",
   "execution_count": 112,
   "id": "nonprofit-manhattan",
   "metadata": {},
   "outputs": [
    {
     "data": {
      "image/png": "[encoded data removed]",
      "text/plain": [
       "<Figure size 432x288 with 1 Axes>"
      ]
     },
     "metadata": {
      "needs_background": "light"
     },
     "output_type": "display_data"
    }
   ],
   "source": [
    "# looks linear-ish at first glance\n",
    "\n",
    "plt.grid(True)\n",
    "plt.scatter(k_list, stdev_list);"
   ]
  },
  {
   "cell_type": "code",
   "execution_count": 118,
   "id": "italian-castle",
   "metadata": {},
   "outputs": [
    {
     "data": {
      "text/plain": [
       "LinregressResult(slope=0.7336712176594529, intercept=0.018168251669433727, rvalue=0.9993406671161238, pvalue=7.162084405440105e-10, stderr=0.010881983518095663, intercept_stderr=0.0027475661570045473)"
      ]
     },
     "execution_count": 118,
     "metadata": {},
     "output_type": "execute_result"
    }
   ],
   "source": [
    "# yup, linear\n",
    "\n",
    "linregress(k_list,stdev_list)"
   ]
  },
  {
   "cell_type": "code",
   "execution_count": null,
   "id": "meaning-desktop",
   "metadata": {},
   "outputs": [],
   "source": []
  },
  {
   "cell_type": "code",
   "execution_count": 114,
   "id": "significant-villa",
   "metadata": {},
   "outputs": [],
   "source": [
    "# lets run 2000 just to make sure we're getting good data for k=0.1 \n",
    "\n",
    "final_sim = play_matches(players_uniform,2000,0.1)"
   ]
  },
  {
   "cell_type": "code",
   "execution_count": 115,
   "id": "wrong-arrival",
   "metadata": {},
   "outputs": [
    {
     "name": "stdout",
     "output_type": "stream",
     "text": [
      "mean 4.500461042049678 \n",
      " std 0.09288297583913226\n"
     ]
    },
    {
     "data": {
      "image/png": "[encoded data removed]",
      "text/plain": [
       "<Figure size 432x288 with 1 Axes>"
      ]
     },
     "metadata": {
      "needs_background": "light"
     },
     "output_type": "display_data"
    }
   ],
   "source": [
    "# stedev rounds to 0.0928 for both the 500 matches and the 2000, so I'll call that a match\n",
    "\n",
    "make_plot(final_sim)"
   ]
  },
  {
   "cell_type": "code",
   "execution_count": 119,
   "id": "supreme-entrepreneur",
   "metadata": {},
   "outputs": [],
   "source": [
    "#  and we can also start with the players clustered around 4.5 instead of starting with\n",
    "#  a uniform distribtuion\n",
    "\n",
    "stdev_list_2 = list(norm.fit(play_matches(players,500,k))[1] for k in k_list)"
   ]
  },
  {
   "cell_type": "code",
   "execution_count": 121,
   "id": "practical-twins",
   "metadata": {},
   "outputs": [
    {
     "data": {
      "image/png": "[encoded data removed]",
      "text/plain": [
       "<Figure size 432x288 with 1 Axes>"
      ]
     },
     "metadata": {
      "needs_background": "light"
     },
     "output_type": "display_data"
    }
   ],
   "source": [
    "# they're falling right on top of each other!\n",
    "\n",
    "plt.scatter(k_list, stdev_list)\n",
    "plt.scatter(k_list, stdev_list_2)\n",
    "plt.show()"
   ]
  },
  {
   "cell_type": "code",
   "execution_count": null,
   "id": "fitted-plastic",
   "metadata": {},
   "outputs": [],
   "source": []
  },
  {
   "cell_type": "code",
   "execution_count": null,
   "id": "descending-request",
   "metadata": {},
   "outputs": [],
   "source": []
  }
 ],
 "metadata": {
  "kernelspec": {
   "display_name": "Python 3",
   "language": "python",
   "name": "python3"
  },
  "language_info": {
   "codemirror_mode": {
    "name": "ipython",
    "version": 3
   },
   "file_extension": ".py",
   "mimetype": "text/x-python",
   "name": "python",
   "nbconvert_exporter": "python",
   "pygments_lexer": "ipython3",
   "version": "3.8.5"
  }
 },
 "nbformat": 4,
 "nbformat_minor": 5
}
